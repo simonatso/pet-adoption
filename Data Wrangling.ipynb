{
 "cells": [
  {
   "cell_type": "code",
   "execution_count": 1,
   "metadata": {},
   "outputs": [],
   "source": [
    "#Import required libraries\n",
    "import pandas as pd\n",
    "import matplotlib.pyplot as plt\n",
    "import numpy as np\n",
    "import seaborn as sns"
   ]
  },
  {
   "cell_type": "code",
   "execution_count": 2,
   "metadata": {},
   "outputs": [],
   "source": [
    "#Load in data\n",
    "data = pd.read_csv('data/train.csv')"
   ]
  },
  {
   "cell_type": "code",
   "execution_count": 3,
   "metadata": {},
   "outputs": [
    {
     "data": {
      "text/html": [
       "<div>\n",
       "<style scoped>\n",
       "    .dataframe tbody tr th:only-of-type {\n",
       "        vertical-align: middle;\n",
       "    }\n",
       "\n",
       "    .dataframe tbody tr th {\n",
       "        vertical-align: top;\n",
       "    }\n",
       "\n",
       "    .dataframe thead th {\n",
       "        text-align: right;\n",
       "    }\n",
       "</style>\n",
       "<table border=\"1\" class=\"dataframe\">\n",
       "  <thead>\n",
       "    <tr style=\"text-align: right;\">\n",
       "      <th></th>\n",
       "      <th>Type</th>\n",
       "      <th>Name</th>\n",
       "      <th>Age</th>\n",
       "      <th>Breed1</th>\n",
       "      <th>Breed2</th>\n",
       "      <th>Gender</th>\n",
       "      <th>Color1</th>\n",
       "      <th>Color2</th>\n",
       "      <th>Color3</th>\n",
       "      <th>MaturitySize</th>\n",
       "      <th>...</th>\n",
       "      <th>Health</th>\n",
       "      <th>Quantity</th>\n",
       "      <th>Fee</th>\n",
       "      <th>State</th>\n",
       "      <th>RescuerID</th>\n",
       "      <th>VideoAmt</th>\n",
       "      <th>Description</th>\n",
       "      <th>PetID</th>\n",
       "      <th>PhotoAmt</th>\n",
       "      <th>AdoptionSpeed</th>\n",
       "    </tr>\n",
       "  </thead>\n",
       "  <tbody>\n",
       "    <tr>\n",
       "      <th>0</th>\n",
       "      <td>2</td>\n",
       "      <td>Nibble</td>\n",
       "      <td>3</td>\n",
       "      <td>299</td>\n",
       "      <td>0</td>\n",
       "      <td>1</td>\n",
       "      <td>1</td>\n",
       "      <td>7</td>\n",
       "      <td>0</td>\n",
       "      <td>1</td>\n",
       "      <td>...</td>\n",
       "      <td>1</td>\n",
       "      <td>1</td>\n",
       "      <td>100</td>\n",
       "      <td>41326</td>\n",
       "      <td>8480853f516546f6cf33aa88cd76c379</td>\n",
       "      <td>0</td>\n",
       "      <td>Nibble is a 3+ month old ball of cuteness. He ...</td>\n",
       "      <td>86e1089a3</td>\n",
       "      <td>1.0</td>\n",
       "      <td>2</td>\n",
       "    </tr>\n",
       "    <tr>\n",
       "      <th>1</th>\n",
       "      <td>2</td>\n",
       "      <td>No Name Yet</td>\n",
       "      <td>1</td>\n",
       "      <td>265</td>\n",
       "      <td>0</td>\n",
       "      <td>1</td>\n",
       "      <td>1</td>\n",
       "      <td>2</td>\n",
       "      <td>0</td>\n",
       "      <td>2</td>\n",
       "      <td>...</td>\n",
       "      <td>1</td>\n",
       "      <td>1</td>\n",
       "      <td>0</td>\n",
       "      <td>41401</td>\n",
       "      <td>3082c7125d8fb66f7dd4bff4192c8b14</td>\n",
       "      <td>0</td>\n",
       "      <td>I just found it alone yesterday near my apartm...</td>\n",
       "      <td>6296e909a</td>\n",
       "      <td>2.0</td>\n",
       "      <td>0</td>\n",
       "    </tr>\n",
       "    <tr>\n",
       "      <th>2</th>\n",
       "      <td>1</td>\n",
       "      <td>Brisco</td>\n",
       "      <td>1</td>\n",
       "      <td>307</td>\n",
       "      <td>0</td>\n",
       "      <td>1</td>\n",
       "      <td>2</td>\n",
       "      <td>7</td>\n",
       "      <td>0</td>\n",
       "      <td>2</td>\n",
       "      <td>...</td>\n",
       "      <td>1</td>\n",
       "      <td>1</td>\n",
       "      <td>0</td>\n",
       "      <td>41326</td>\n",
       "      <td>fa90fa5b1ee11c86938398b60abc32cb</td>\n",
       "      <td>0</td>\n",
       "      <td>Their pregnant mother was dumped by her irresp...</td>\n",
       "      <td>3422e4906</td>\n",
       "      <td>7.0</td>\n",
       "      <td>3</td>\n",
       "    </tr>\n",
       "    <tr>\n",
       "      <th>3</th>\n",
       "      <td>1</td>\n",
       "      <td>Miko</td>\n",
       "      <td>4</td>\n",
       "      <td>307</td>\n",
       "      <td>0</td>\n",
       "      <td>2</td>\n",
       "      <td>1</td>\n",
       "      <td>2</td>\n",
       "      <td>0</td>\n",
       "      <td>2</td>\n",
       "      <td>...</td>\n",
       "      <td>1</td>\n",
       "      <td>1</td>\n",
       "      <td>150</td>\n",
       "      <td>41401</td>\n",
       "      <td>9238e4f44c71a75282e62f7136c6b240</td>\n",
       "      <td>0</td>\n",
       "      <td>Good guard dog, very alert, active, obedience ...</td>\n",
       "      <td>5842f1ff5</td>\n",
       "      <td>8.0</td>\n",
       "      <td>2</td>\n",
       "    </tr>\n",
       "    <tr>\n",
       "      <th>4</th>\n",
       "      <td>1</td>\n",
       "      <td>Hunter</td>\n",
       "      <td>1</td>\n",
       "      <td>307</td>\n",
       "      <td>0</td>\n",
       "      <td>1</td>\n",
       "      <td>1</td>\n",
       "      <td>0</td>\n",
       "      <td>0</td>\n",
       "      <td>2</td>\n",
       "      <td>...</td>\n",
       "      <td>1</td>\n",
       "      <td>1</td>\n",
       "      <td>0</td>\n",
       "      <td>41326</td>\n",
       "      <td>95481e953f8aed9ec3d16fc4509537e8</td>\n",
       "      <td>0</td>\n",
       "      <td>This handsome yet cute boy is up for adoption....</td>\n",
       "      <td>850a43f90</td>\n",
       "      <td>3.0</td>\n",
       "      <td>2</td>\n",
       "    </tr>\n",
       "  </tbody>\n",
       "</table>\n",
       "<p>5 rows × 24 columns</p>\n",
       "</div>"
      ],
      "text/plain": [
       "   Type         Name  Age  Breed1  Breed2  Gender  Color1  Color2  Color3  \\\n",
       "0     2       Nibble    3     299       0       1       1       7       0   \n",
       "1     2  No Name Yet    1     265       0       1       1       2       0   \n",
       "2     1       Brisco    1     307       0       1       2       7       0   \n",
       "3     1         Miko    4     307       0       2       1       2       0   \n",
       "4     1       Hunter    1     307       0       1       1       0       0   \n",
       "\n",
       "   MaturitySize  ...  Health  Quantity  Fee  State  \\\n",
       "0             1  ...       1         1  100  41326   \n",
       "1             2  ...       1         1    0  41401   \n",
       "2             2  ...       1         1    0  41326   \n",
       "3             2  ...       1         1  150  41401   \n",
       "4             2  ...       1         1    0  41326   \n",
       "\n",
       "                          RescuerID  VideoAmt  \\\n",
       "0  8480853f516546f6cf33aa88cd76c379         0   \n",
       "1  3082c7125d8fb66f7dd4bff4192c8b14         0   \n",
       "2  fa90fa5b1ee11c86938398b60abc32cb         0   \n",
       "3  9238e4f44c71a75282e62f7136c6b240         0   \n",
       "4  95481e953f8aed9ec3d16fc4509537e8         0   \n",
       "\n",
       "                                         Description      PetID PhotoAmt  \\\n",
       "0  Nibble is a 3+ month old ball of cuteness. He ...  86e1089a3      1.0   \n",
       "1  I just found it alone yesterday near my apartm...  6296e909a      2.0   \n",
       "2  Their pregnant mother was dumped by her irresp...  3422e4906      7.0   \n",
       "3  Good guard dog, very alert, active, obedience ...  5842f1ff5      8.0   \n",
       "4  This handsome yet cute boy is up for adoption....  850a43f90      3.0   \n",
       "\n",
       "   AdoptionSpeed  \n",
       "0              2  \n",
       "1              0  \n",
       "2              3  \n",
       "3              2  \n",
       "4              2  \n",
       "\n",
       "[5 rows x 24 columns]"
      ]
     },
     "execution_count": 3,
     "metadata": {},
     "output_type": "execute_result"
    }
   ],
   "source": [
    "data.head()"
   ]
  },
  {
   "cell_type": "code",
   "execution_count": 4,
   "metadata": {},
   "outputs": [
    {
     "name": "stdout",
     "output_type": "stream",
     "text": [
      "<class 'pandas.core.frame.DataFrame'>\n",
      "RangeIndex: 14993 entries, 0 to 14992\n",
      "Data columns (total 24 columns):\n",
      " #   Column         Non-Null Count  Dtype  \n",
      "---  ------         --------------  -----  \n",
      " 0   Type           14993 non-null  int64  \n",
      " 1   Name           13736 non-null  object \n",
      " 2   Age            14993 non-null  int64  \n",
      " 3   Breed1         14993 non-null  int64  \n",
      " 4   Breed2         14993 non-null  int64  \n",
      " 5   Gender         14993 non-null  int64  \n",
      " 6   Color1         14993 non-null  int64  \n",
      " 7   Color2         14993 non-null  int64  \n",
      " 8   Color3         14993 non-null  int64  \n",
      " 9   MaturitySize   14993 non-null  int64  \n",
      " 10  FurLength      14993 non-null  int64  \n",
      " 11  Vaccinated     14993 non-null  int64  \n",
      " 12  Dewormed       14993 non-null  int64  \n",
      " 13  Sterilized     14993 non-null  int64  \n",
      " 14  Health         14993 non-null  int64  \n",
      " 15  Quantity       14993 non-null  int64  \n",
      " 16  Fee            14993 non-null  int64  \n",
      " 17  State          14993 non-null  int64  \n",
      " 18  RescuerID      14993 non-null  object \n",
      " 19  VideoAmt       14993 non-null  int64  \n",
      " 20  Description    14981 non-null  object \n",
      " 21  PetID          14993 non-null  object \n",
      " 22  PhotoAmt       14993 non-null  float64\n",
      " 23  AdoptionSpeed  14993 non-null  int64  \n",
      "dtypes: float64(1), int64(19), object(4)\n",
      "memory usage: 2.7+ MB\n"
     ]
    }
   ],
   "source": [
    "data.info()"
   ]
  },
  {
   "cell_type": "code",
   "execution_count": 5,
   "metadata": {},
   "outputs": [
    {
     "data": {
      "text/html": [
       "<div>\n",
       "<style scoped>\n",
       "    .dataframe tbody tr th:only-of-type {\n",
       "        vertical-align: middle;\n",
       "    }\n",
       "\n",
       "    .dataframe tbody tr th {\n",
       "        vertical-align: top;\n",
       "    }\n",
       "\n",
       "    .dataframe thead th {\n",
       "        text-align: right;\n",
       "    }\n",
       "</style>\n",
       "<table border=\"1\" class=\"dataframe\">\n",
       "  <thead>\n",
       "    <tr style=\"text-align: right;\">\n",
       "      <th></th>\n",
       "      <th>Type</th>\n",
       "      <th>Name</th>\n",
       "      <th>Age</th>\n",
       "      <th>Breed1</th>\n",
       "      <th>Breed2</th>\n",
       "      <th>Gender</th>\n",
       "      <th>Color1</th>\n",
       "      <th>Color2</th>\n",
       "      <th>Color3</th>\n",
       "      <th>MaturitySize</th>\n",
       "      <th>...</th>\n",
       "      <th>Health</th>\n",
       "      <th>Quantity</th>\n",
       "      <th>Fee</th>\n",
       "      <th>State</th>\n",
       "      <th>RescuerID</th>\n",
       "      <th>VideoAmt</th>\n",
       "      <th>Description</th>\n",
       "      <th>PetID</th>\n",
       "      <th>PhotoAmt</th>\n",
       "      <th>AdoptionSpeed</th>\n",
       "    </tr>\n",
       "    <tr>\n",
       "      <th>PetID</th>\n",
       "      <th></th>\n",
       "      <th></th>\n",
       "      <th></th>\n",
       "      <th></th>\n",
       "      <th></th>\n",
       "      <th></th>\n",
       "      <th></th>\n",
       "      <th></th>\n",
       "      <th></th>\n",
       "      <th></th>\n",
       "      <th></th>\n",
       "      <th></th>\n",
       "      <th></th>\n",
       "      <th></th>\n",
       "      <th></th>\n",
       "      <th></th>\n",
       "      <th></th>\n",
       "      <th></th>\n",
       "      <th></th>\n",
       "      <th></th>\n",
       "      <th></th>\n",
       "    </tr>\n",
       "  </thead>\n",
       "  <tbody>\n",
       "    <tr>\n",
       "      <th>86e1089a3</th>\n",
       "      <td>2</td>\n",
       "      <td>Nibble</td>\n",
       "      <td>3</td>\n",
       "      <td>299</td>\n",
       "      <td>0</td>\n",
       "      <td>1</td>\n",
       "      <td>1</td>\n",
       "      <td>7</td>\n",
       "      <td>0</td>\n",
       "      <td>1</td>\n",
       "      <td>...</td>\n",
       "      <td>1</td>\n",
       "      <td>1</td>\n",
       "      <td>100</td>\n",
       "      <td>41326</td>\n",
       "      <td>8480853f516546f6cf33aa88cd76c379</td>\n",
       "      <td>0</td>\n",
       "      <td>Nibble is a 3+ month old ball of cuteness. He ...</td>\n",
       "      <td>86e1089a3</td>\n",
       "      <td>1.0</td>\n",
       "      <td>2</td>\n",
       "    </tr>\n",
       "    <tr>\n",
       "      <th>6296e909a</th>\n",
       "      <td>2</td>\n",
       "      <td>No Name Yet</td>\n",
       "      <td>1</td>\n",
       "      <td>265</td>\n",
       "      <td>0</td>\n",
       "      <td>1</td>\n",
       "      <td>1</td>\n",
       "      <td>2</td>\n",
       "      <td>0</td>\n",
       "      <td>2</td>\n",
       "      <td>...</td>\n",
       "      <td>1</td>\n",
       "      <td>1</td>\n",
       "      <td>0</td>\n",
       "      <td>41401</td>\n",
       "      <td>3082c7125d8fb66f7dd4bff4192c8b14</td>\n",
       "      <td>0</td>\n",
       "      <td>I just found it alone yesterday near my apartm...</td>\n",
       "      <td>6296e909a</td>\n",
       "      <td>2.0</td>\n",
       "      <td>0</td>\n",
       "    </tr>\n",
       "    <tr>\n",
       "      <th>3422e4906</th>\n",
       "      <td>1</td>\n",
       "      <td>Brisco</td>\n",
       "      <td>1</td>\n",
       "      <td>307</td>\n",
       "      <td>0</td>\n",
       "      <td>1</td>\n",
       "      <td>2</td>\n",
       "      <td>7</td>\n",
       "      <td>0</td>\n",
       "      <td>2</td>\n",
       "      <td>...</td>\n",
       "      <td>1</td>\n",
       "      <td>1</td>\n",
       "      <td>0</td>\n",
       "      <td>41326</td>\n",
       "      <td>fa90fa5b1ee11c86938398b60abc32cb</td>\n",
       "      <td>0</td>\n",
       "      <td>Their pregnant mother was dumped by her irresp...</td>\n",
       "      <td>3422e4906</td>\n",
       "      <td>7.0</td>\n",
       "      <td>3</td>\n",
       "    </tr>\n",
       "    <tr>\n",
       "      <th>5842f1ff5</th>\n",
       "      <td>1</td>\n",
       "      <td>Miko</td>\n",
       "      <td>4</td>\n",
       "      <td>307</td>\n",
       "      <td>0</td>\n",
       "      <td>2</td>\n",
       "      <td>1</td>\n",
       "      <td>2</td>\n",
       "      <td>0</td>\n",
       "      <td>2</td>\n",
       "      <td>...</td>\n",
       "      <td>1</td>\n",
       "      <td>1</td>\n",
       "      <td>150</td>\n",
       "      <td>41401</td>\n",
       "      <td>9238e4f44c71a75282e62f7136c6b240</td>\n",
       "      <td>0</td>\n",
       "      <td>Good guard dog, very alert, active, obedience ...</td>\n",
       "      <td>5842f1ff5</td>\n",
       "      <td>8.0</td>\n",
       "      <td>2</td>\n",
       "    </tr>\n",
       "    <tr>\n",
       "      <th>850a43f90</th>\n",
       "      <td>1</td>\n",
       "      <td>Hunter</td>\n",
       "      <td>1</td>\n",
       "      <td>307</td>\n",
       "      <td>0</td>\n",
       "      <td>1</td>\n",
       "      <td>1</td>\n",
       "      <td>0</td>\n",
       "      <td>0</td>\n",
       "      <td>2</td>\n",
       "      <td>...</td>\n",
       "      <td>1</td>\n",
       "      <td>1</td>\n",
       "      <td>0</td>\n",
       "      <td>41326</td>\n",
       "      <td>95481e953f8aed9ec3d16fc4509537e8</td>\n",
       "      <td>0</td>\n",
       "      <td>This handsome yet cute boy is up for adoption....</td>\n",
       "      <td>850a43f90</td>\n",
       "      <td>3.0</td>\n",
       "      <td>2</td>\n",
       "    </tr>\n",
       "  </tbody>\n",
       "</table>\n",
       "<p>5 rows × 24 columns</p>\n",
       "</div>"
      ],
      "text/plain": [
       "           Type         Name  Age  Breed1  Breed2  Gender  Color1  Color2  \\\n",
       "PetID                                                                       \n",
       "86e1089a3     2       Nibble    3     299       0       1       1       7   \n",
       "6296e909a     2  No Name Yet    1     265       0       1       1       2   \n",
       "3422e4906     1       Brisco    1     307       0       1       2       7   \n",
       "5842f1ff5     1         Miko    4     307       0       2       1       2   \n",
       "850a43f90     1       Hunter    1     307       0       1       1       0   \n",
       "\n",
       "           Color3  MaturitySize  ...  Health  Quantity  Fee  State  \\\n",
       "PetID                            ...                                 \n",
       "86e1089a3       0             1  ...       1         1  100  41326   \n",
       "6296e909a       0             2  ...       1         1    0  41401   \n",
       "3422e4906       0             2  ...       1         1    0  41326   \n",
       "5842f1ff5       0             2  ...       1         1  150  41401   \n",
       "850a43f90       0             2  ...       1         1    0  41326   \n",
       "\n",
       "                                  RescuerID  VideoAmt  \\\n",
       "PetID                                                   \n",
       "86e1089a3  8480853f516546f6cf33aa88cd76c379         0   \n",
       "6296e909a  3082c7125d8fb66f7dd4bff4192c8b14         0   \n",
       "3422e4906  fa90fa5b1ee11c86938398b60abc32cb         0   \n",
       "5842f1ff5  9238e4f44c71a75282e62f7136c6b240         0   \n",
       "850a43f90  95481e953f8aed9ec3d16fc4509537e8         0   \n",
       "\n",
       "                                                 Description      PetID  \\\n",
       "PetID                                                                     \n",
       "86e1089a3  Nibble is a 3+ month old ball of cuteness. He ...  86e1089a3   \n",
       "6296e909a  I just found it alone yesterday near my apartm...  6296e909a   \n",
       "3422e4906  Their pregnant mother was dumped by her irresp...  3422e4906   \n",
       "5842f1ff5  Good guard dog, very alert, active, obedience ...  5842f1ff5   \n",
       "850a43f90  This handsome yet cute boy is up for adoption....  850a43f90   \n",
       "\n",
       "          PhotoAmt  AdoptionSpeed  \n",
       "PetID                              \n",
       "86e1089a3      1.0              2  \n",
       "6296e909a      2.0              0  \n",
       "3422e4906      7.0              3  \n",
       "5842f1ff5      8.0              2  \n",
       "850a43f90      3.0              2  \n",
       "\n",
       "[5 rows x 24 columns]"
      ]
     },
     "execution_count": 5,
     "metadata": {},
     "output_type": "execute_result"
    }
   ],
   "source": [
    "#reindex with PetID\n",
    "data.index = data['PetID']\n",
    "data.head()"
   ]
  },
  {
   "cell_type": "code",
   "execution_count": 6,
   "metadata": {},
   "outputs": [
    {
     "data": {
      "text/plain": [
       "1    8132\n",
       "2    6861\n",
       "Name: Type, dtype: int64"
      ]
     },
     "execution_count": 6,
     "metadata": {},
     "output_type": "execute_result"
    }
   ],
   "source": [
    "data['Type'].value_counts()"
   ]
  },
  {
   "cell_type": "code",
   "execution_count": 7,
   "metadata": {},
   "outputs": [
    {
     "data": {
      "image/png": "[encoded data removed]",
      "text/plain": [
       "<Figure size 432x288 with 1 Axes>"
      ]
     },
     "metadata": {
      "needs_background": "light"
     },
     "output_type": "display_data"
    }
   ],
   "source": [
    "plt.hist(data.Type)\n",
    "plt.xticks([1,2], ['Dog', 'Cat'])\n",
    "plt.xlabel('Pet type')\n",
    "plt.ylabel('Count')\n",
    "plt.show()"
   ]
  },
  {
   "cell_type": "code",
   "execution_count": 8,
   "metadata": {},
   "outputs": [
    {
     "data": {
      "text/plain": [
       "Baby                66\n",
       "Lucky               64\n",
       "Brownie             54\n",
       "No Name             54\n",
       "Mimi                52\n",
       "                    ..\n",
       "Little Boy Blue      1\n",
       "The Nameless One     1\n",
       "--@ Baby --@         1\n",
       "Q5                   1\n",
       "Marie Girl           1\n",
       "Name: Name, Length: 9060, dtype: int64"
      ]
     },
     "execution_count": 8,
     "metadata": {},
     "output_type": "execute_result"
    }
   ],
   "source": [
    "data.Name.value_counts()"
   ]
  },
  {
   "cell_type": "code",
   "execution_count": 9,
   "metadata": {},
   "outputs": [
    {
     "data": {
      "text/plain": [
       "2      3503\n",
       "1      2304\n",
       "3      1966\n",
       "4      1109\n",
       "12      967\n",
       "       ... \n",
       "75        1\n",
       "122       1\n",
       "82        1\n",
       "74        1\n",
       "43        1\n",
       "Name: Age, Length: 106, dtype: int64"
      ]
     },
     "execution_count": 9,
     "metadata": {},
     "output_type": "execute_result"
    }
   ],
   "source": [
    "data['Age'].value_counts()"
   ]
  },
  {
   "cell_type": "code",
   "execution_count": 10,
   "metadata": {},
   "outputs": [
    {
     "data": {
      "image/png": "[encoded data removed]",
      "text/plain": [
       "<Figure size 432x288 with 1 Axes>"
      ]
     },
     "metadata": {
      "needs_background": "light"
     },
     "output_type": "display_data"
    }
   ],
   "source": [
    "plt.hist(data.Age, bins = 10)\n",
    "plt.xlabel('Age in months')\n",
    "plt.ylabel('Count')\n",
    "plt.show()"
   ]
  },
  {
   "cell_type": "code",
   "execution_count": 11,
   "metadata": {},
   "outputs": [
    {
     "data": {
      "text/plain": [
       "307    5927\n",
       "266    3634\n",
       "265    1258\n",
       "299     342\n",
       "264     296\n",
       "       ... \n",
       "139       1\n",
       "302       1\n",
       "7         1\n",
       "23        1\n",
       "93        1\n",
       "Name: Breed1, Length: 176, dtype: int64"
      ]
     },
     "execution_count": 11,
     "metadata": {},
     "output_type": "execute_result"
    }
   ],
   "source": [
    "data['Breed1'].value_counts() #We notice a large proportion of breed 307 (unknown breed)"
   ]
  },
  {
   "cell_type": "code",
   "execution_count": 12,
   "metadata": {},
   "outputs": [
    {
     "data": {
      "text/html": [
       "<div>\n",
       "<style scoped>\n",
       "    .dataframe tbody tr th:only-of-type {\n",
       "        vertical-align: middle;\n",
       "    }\n",
       "\n",
       "    .dataframe tbody tr th {\n",
       "        vertical-align: top;\n",
       "    }\n",
       "\n",
       "    .dataframe thead th {\n",
       "        text-align: right;\n",
       "    }\n",
       "</style>\n",
       "<table border=\"1\" class=\"dataframe\">\n",
       "  <thead>\n",
       "    <tr style=\"text-align: right;\">\n",
       "      <th></th>\n",
       "      <th>Type</th>\n",
       "      <th>Name</th>\n",
       "      <th>Age</th>\n",
       "      <th>Breed1</th>\n",
       "      <th>Breed2</th>\n",
       "      <th>Gender</th>\n",
       "      <th>Color1</th>\n",
       "      <th>Color2</th>\n",
       "      <th>Color3</th>\n",
       "      <th>MaturitySize</th>\n",
       "      <th>...</th>\n",
       "      <th>Health</th>\n",
       "      <th>Quantity</th>\n",
       "      <th>Fee</th>\n",
       "      <th>State</th>\n",
       "      <th>RescuerID</th>\n",
       "      <th>VideoAmt</th>\n",
       "      <th>Description</th>\n",
       "      <th>PetID</th>\n",
       "      <th>PhotoAmt</th>\n",
       "      <th>AdoptionSpeed</th>\n",
       "    </tr>\n",
       "    <tr>\n",
       "      <th>PetID</th>\n",
       "      <th></th>\n",
       "      <th></th>\n",
       "      <th></th>\n",
       "      <th></th>\n",
       "      <th></th>\n",
       "      <th></th>\n",
       "      <th></th>\n",
       "      <th></th>\n",
       "      <th></th>\n",
       "      <th></th>\n",
       "      <th></th>\n",
       "      <th></th>\n",
       "      <th></th>\n",
       "      <th></th>\n",
       "      <th></th>\n",
       "      <th></th>\n",
       "      <th></th>\n",
       "      <th></th>\n",
       "      <th></th>\n",
       "      <th></th>\n",
       "      <th></th>\n",
       "    </tr>\n",
       "  </thead>\n",
       "  <tbody>\n",
       "    <tr>\n",
       "      <th>375905770</th>\n",
       "      <td>1</td>\n",
       "      <td>Lil Milo</td>\n",
       "      <td>2</td>\n",
       "      <td>0</td>\n",
       "      <td>26</td>\n",
       "      <td>2</td>\n",
       "      <td>2</td>\n",
       "      <td>0</td>\n",
       "      <td>0</td>\n",
       "      <td>2</td>\n",
       "      <td>...</td>\n",
       "      <td>1</td>\n",
       "      <td>1</td>\n",
       "      <td>0</td>\n",
       "      <td>41326</td>\n",
       "      <td>1a2113010d6048d5410b265347b35c91</td>\n",
       "      <td>0</td>\n",
       "      <td>Milo went missing after a week with her new ad...</td>\n",
       "      <td>375905770</td>\n",
       "      <td>3.0</td>\n",
       "      <td>3</td>\n",
       "    </tr>\n",
       "    <tr>\n",
       "      <th>da8d4a273</th>\n",
       "      <td>1</td>\n",
       "      <td>Bella 4 Months Puppy!</td>\n",
       "      <td>4</td>\n",
       "      <td>0</td>\n",
       "      <td>307</td>\n",
       "      <td>2</td>\n",
       "      <td>2</td>\n",
       "      <td>3</td>\n",
       "      <td>0</td>\n",
       "      <td>2</td>\n",
       "      <td>...</td>\n",
       "      <td>1</td>\n",
       "      <td>1</td>\n",
       "      <td>100</td>\n",
       "      <td>41326</td>\n",
       "      <td>3673e167fc9932b13149bed1f2a0180a</td>\n",
       "      <td>0</td>\n",
       "      <td>She's only 4 months old, very friendly and lov...</td>\n",
       "      <td>da8d4a273</td>\n",
       "      <td>5.0</td>\n",
       "      <td>4</td>\n",
       "    </tr>\n",
       "    <tr>\n",
       "      <th>27e74e45c</th>\n",
       "      <td>2</td>\n",
       "      <td>NaN</td>\n",
       "      <td>3</td>\n",
       "      <td>0</td>\n",
       "      <td>266</td>\n",
       "      <td>3</td>\n",
       "      <td>1</td>\n",
       "      <td>4</td>\n",
       "      <td>7</td>\n",
       "      <td>1</td>\n",
       "      <td>...</td>\n",
       "      <td>1</td>\n",
       "      <td>3</td>\n",
       "      <td>0</td>\n",
       "      <td>41401</td>\n",
       "      <td>f7cff59d10c867bdee12c3f35f34d086</td>\n",
       "      <td>0</td>\n",
       "      <td>Mama cat came to house and gave birth to these...</td>\n",
       "      <td>27e74e45c</td>\n",
       "      <td>11.0</td>\n",
       "      <td>2</td>\n",
       "    </tr>\n",
       "    <tr>\n",
       "      <th>7b5bee232</th>\n",
       "      <td>1</td>\n",
       "      <td>\"Boy Boy\"</td>\n",
       "      <td>72</td>\n",
       "      <td>0</td>\n",
       "      <td>307</td>\n",
       "      <td>1</td>\n",
       "      <td>1</td>\n",
       "      <td>2</td>\n",
       "      <td>0</td>\n",
       "      <td>2</td>\n",
       "      <td>...</td>\n",
       "      <td>1</td>\n",
       "      <td>1</td>\n",
       "      <td>0</td>\n",
       "      <td>41326</td>\n",
       "      <td>94b991f8dc1e0bb903ca8d4d492c8d43</td>\n",
       "      <td>0</td>\n",
       "      <td>He is a stray dog found wandering around Unive...</td>\n",
       "      <td>7b5bee232</td>\n",
       "      <td>5.0</td>\n",
       "      <td>4</td>\n",
       "    </tr>\n",
       "    <tr>\n",
       "      <th>0327b8e94</th>\n",
       "      <td>1</td>\n",
       "      <td>Looking Newborn Puppy For Adoption</td>\n",
       "      <td>2</td>\n",
       "      <td>0</td>\n",
       "      <td>205</td>\n",
       "      <td>2</td>\n",
       "      <td>2</td>\n",
       "      <td>5</td>\n",
       "      <td>7</td>\n",
       "      <td>1</td>\n",
       "      <td>...</td>\n",
       "      <td>1</td>\n",
       "      <td>1</td>\n",
       "      <td>1</td>\n",
       "      <td>41336</td>\n",
       "      <td>5232bdd1444960a257ccec9a41404320</td>\n",
       "      <td>0</td>\n",
       "      <td>I want to adopt a newborn puppy Prefer small b...</td>\n",
       "      <td>0327b8e94</td>\n",
       "      <td>0.0</td>\n",
       "      <td>3</td>\n",
       "    </tr>\n",
       "  </tbody>\n",
       "</table>\n",
       "<p>5 rows × 24 columns</p>\n",
       "</div>"
      ],
      "text/plain": [
       "           Type                                Name  Age  Breed1  Breed2  \\\n",
       "PetID                                                                      \n",
       "375905770     1                            Lil Milo    2       0      26   \n",
       "da8d4a273     1               Bella 4 Months Puppy!    4       0     307   \n",
       "27e74e45c     2                                 NaN    3       0     266   \n",
       "7b5bee232     1                           \"Boy Boy\"   72       0     307   \n",
       "0327b8e94     1  Looking Newborn Puppy For Adoption    2       0     205   \n",
       "\n",
       "           Gender  Color1  Color2  Color3  MaturitySize  ...  Health  \\\n",
       "PetID                                                    ...           \n",
       "375905770       2       2       0       0             2  ...       1   \n",
       "da8d4a273       2       2       3       0             2  ...       1   \n",
       "27e74e45c       3       1       4       7             1  ...       1   \n",
       "7b5bee232       1       1       2       0             2  ...       1   \n",
       "0327b8e94       2       2       5       7             1  ...       1   \n",
       "\n",
       "           Quantity  Fee  State                         RescuerID  VideoAmt  \\\n",
       "PetID                                                                         \n",
       "375905770         1    0  41326  1a2113010d6048d5410b265347b35c91         0   \n",
       "da8d4a273         1  100  41326  3673e167fc9932b13149bed1f2a0180a         0   \n",
       "27e74e45c         3    0  41401  f7cff59d10c867bdee12c3f35f34d086         0   \n",
       "7b5bee232         1    0  41326  94b991f8dc1e0bb903ca8d4d492c8d43         0   \n",
       "0327b8e94         1    1  41336  5232bdd1444960a257ccec9a41404320         0   \n",
       "\n",
       "                                                 Description      PetID  \\\n",
       "PetID                                                                     \n",
       "375905770  Milo went missing after a week with her new ad...  375905770   \n",
       "da8d4a273  She's only 4 months old, very friendly and lov...  da8d4a273   \n",
       "27e74e45c  Mama cat came to house and gave birth to these...  27e74e45c   \n",
       "7b5bee232  He is a stray dog found wandering around Unive...  7b5bee232   \n",
       "0327b8e94  I want to adopt a newborn puppy Prefer small b...  0327b8e94   \n",
       "\n",
       "          PhotoAmt  AdoptionSpeed  \n",
       "PetID                              \n",
       "375905770      3.0              3  \n",
       "da8d4a273      5.0              4  \n",
       "27e74e45c     11.0              2  \n",
       "7b5bee232      5.0              4  \n",
       "0327b8e94      0.0              3  \n",
       "\n",
       "[5 rows x 24 columns]"
      ]
     },
     "execution_count": 12,
     "metadata": {},
     "output_type": "execute_result"
    }
   ],
   "source": [
    "data[data['Breed1'] == 0] "
   ]
  },
  {
   "cell_type": "code",
   "execution_count": 13,
   "metadata": {},
   "outputs": [],
   "source": [
    "#There appears to be some breeds mistakenly filled into Breed2 instead of Breed1\n",
    "data.Breed1 = np.where((data['Breed1']==0) & (data['Breed2']!=0), data['Breed2'], data['Breed1'])\n",
    "data.Breed2 = np.where((data['Breed1']== data['Breed2']), 0, data['Breed2'])"
   ]
  },
  {
   "cell_type": "code",
   "execution_count": 14,
   "metadata": {},
   "outputs": [
    {
     "data": {
      "text/html": [
       "<div>\n",
       "<style scoped>\n",
       "    .dataframe tbody tr th:only-of-type {\n",
       "        vertical-align: middle;\n",
       "    }\n",
       "\n",
       "    .dataframe tbody tr th {\n",
       "        vertical-align: top;\n",
       "    }\n",
       "\n",
       "    .dataframe thead th {\n",
       "        text-align: right;\n",
       "    }\n",
       "</style>\n",
       "<table border=\"1\" class=\"dataframe\">\n",
       "  <thead>\n",
       "    <tr style=\"text-align: right;\">\n",
       "      <th></th>\n",
       "      <th>Type</th>\n",
       "      <th>Name</th>\n",
       "      <th>Age</th>\n",
       "      <th>Breed1</th>\n",
       "      <th>Breed2</th>\n",
       "      <th>Gender</th>\n",
       "      <th>Color1</th>\n",
       "      <th>Color2</th>\n",
       "      <th>Color3</th>\n",
       "      <th>MaturitySize</th>\n",
       "      <th>...</th>\n",
       "      <th>Health</th>\n",
       "      <th>Quantity</th>\n",
       "      <th>Fee</th>\n",
       "      <th>State</th>\n",
       "      <th>RescuerID</th>\n",
       "      <th>VideoAmt</th>\n",
       "      <th>Description</th>\n",
       "      <th>PetID</th>\n",
       "      <th>PhotoAmt</th>\n",
       "      <th>AdoptionSpeed</th>\n",
       "    </tr>\n",
       "    <tr>\n",
       "      <th>PetID</th>\n",
       "      <th></th>\n",
       "      <th></th>\n",
       "      <th></th>\n",
       "      <th></th>\n",
       "      <th></th>\n",
       "      <th></th>\n",
       "      <th></th>\n",
       "      <th></th>\n",
       "      <th></th>\n",
       "      <th></th>\n",
       "      <th></th>\n",
       "      <th></th>\n",
       "      <th></th>\n",
       "      <th></th>\n",
       "      <th></th>\n",
       "      <th></th>\n",
       "      <th></th>\n",
       "      <th></th>\n",
       "      <th></th>\n",
       "      <th></th>\n",
       "      <th></th>\n",
       "    </tr>\n",
       "  </thead>\n",
       "  <tbody>\n",
       "    <tr>\n",
       "      <th>1bf24d8be</th>\n",
       "      <td>1</td>\n",
       "      <td>Donut</td>\n",
       "      <td>10</td>\n",
       "      <td>307</td>\n",
       "      <td>117</td>\n",
       "      <td>2</td>\n",
       "      <td>1</td>\n",
       "      <td>2</td>\n",
       "      <td>7</td>\n",
       "      <td>2</td>\n",
       "      <td>...</td>\n",
       "      <td>1</td>\n",
       "      <td>1</td>\n",
       "      <td>0</td>\n",
       "      <td>41326</td>\n",
       "      <td>aa66486163b6cbc25ea62a34b11c9b91</td>\n",
       "      <td>0</td>\n",
       "      <td>Donut is a friendly doggie and very domesticat...</td>\n",
       "      <td>1bf24d8be</td>\n",
       "      <td>0.0</td>\n",
       "      <td>4</td>\n",
       "    </tr>\n",
       "    <tr>\n",
       "      <th>6fecc5cf7</th>\n",
       "      <td>1</td>\n",
       "      <td>Blackie Duo</td>\n",
       "      <td>1</td>\n",
       "      <td>307</td>\n",
       "      <td>141</td>\n",
       "      <td>2</td>\n",
       "      <td>1</td>\n",
       "      <td>0</td>\n",
       "      <td>0</td>\n",
       "      <td>2</td>\n",
       "      <td>...</td>\n",
       "      <td>1</td>\n",
       "      <td>2</td>\n",
       "      <td>0</td>\n",
       "      <td>41326</td>\n",
       "      <td>8b6c5cd067ada5f54ca5ffc7f7b5d896</td>\n",
       "      <td>0</td>\n",
       "      <td>2 adorable female black pups rescued from USJ ...</td>\n",
       "      <td>6fecc5cf7</td>\n",
       "      <td>13.0</td>\n",
       "      <td>3</td>\n",
       "    </tr>\n",
       "    <tr>\n",
       "      <th>815f4cc08</th>\n",
       "      <td>1</td>\n",
       "      <td>Cody</td>\n",
       "      <td>3</td>\n",
       "      <td>307</td>\n",
       "      <td>141</td>\n",
       "      <td>1</td>\n",
       "      <td>5</td>\n",
       "      <td>0</td>\n",
       "      <td>0</td>\n",
       "      <td>2</td>\n",
       "      <td>...</td>\n",
       "      <td>1</td>\n",
       "      <td>1</td>\n",
       "      <td>0</td>\n",
       "      <td>41326</td>\n",
       "      <td>fa90fa5b1ee11c86938398b60abc32cb</td>\n",
       "      <td>0</td>\n",
       "      <td>Lovely puppy with good nature looking for a ho...</td>\n",
       "      <td>815f4cc08</td>\n",
       "      <td>3.0</td>\n",
       "      <td>3</td>\n",
       "    </tr>\n",
       "    <tr>\n",
       "      <th>8df0bb3b3</th>\n",
       "      <td>1</td>\n",
       "      <td>Molly</td>\n",
       "      <td>2</td>\n",
       "      <td>307</td>\n",
       "      <td>76</td>\n",
       "      <td>1</td>\n",
       "      <td>1</td>\n",
       "      <td>7</td>\n",
       "      <td>0</td>\n",
       "      <td>2</td>\n",
       "      <td>...</td>\n",
       "      <td>1</td>\n",
       "      <td>1</td>\n",
       "      <td>0</td>\n",
       "      <td>41326</td>\n",
       "      <td>e03a1162538a0414d6c79823ad6c2744</td>\n",
       "      <td>4</td>\n",
       "      <td>Mochi, momo and Molly are siblings, about 3 mo...</td>\n",
       "      <td>8df0bb3b3</td>\n",
       "      <td>18.0</td>\n",
       "      <td>3</td>\n",
       "    </tr>\n",
       "    <tr>\n",
       "      <th>6d9b202c9</th>\n",
       "      <td>1</td>\n",
       "      <td>Polly</td>\n",
       "      <td>4</td>\n",
       "      <td>307</td>\n",
       "      <td>36</td>\n",
       "      <td>2</td>\n",
       "      <td>1</td>\n",
       "      <td>2</td>\n",
       "      <td>7</td>\n",
       "      <td>2</td>\n",
       "      <td>...</td>\n",
       "      <td>1</td>\n",
       "      <td>1</td>\n",
       "      <td>0</td>\n",
       "      <td>41326</td>\n",
       "      <td>fa90fa5b1ee11c86938398b60abc32cb</td>\n",
       "      <td>0</td>\n",
       "      <td>She was found wandering around a playground of...</td>\n",
       "      <td>6d9b202c9</td>\n",
       "      <td>10.0</td>\n",
       "      <td>3</td>\n",
       "    </tr>\n",
       "    <tr>\n",
       "      <th>...</th>\n",
       "      <td>...</td>\n",
       "      <td>...</td>\n",
       "      <td>...</td>\n",
       "      <td>...</td>\n",
       "      <td>...</td>\n",
       "      <td>...</td>\n",
       "      <td>...</td>\n",
       "      <td>...</td>\n",
       "      <td>...</td>\n",
       "      <td>...</td>\n",
       "      <td>...</td>\n",
       "      <td>...</td>\n",
       "      <td>...</td>\n",
       "      <td>...</td>\n",
       "      <td>...</td>\n",
       "      <td>...</td>\n",
       "      <td>...</td>\n",
       "      <td>...</td>\n",
       "      <td>...</td>\n",
       "      <td>...</td>\n",
       "      <td>...</td>\n",
       "    </tr>\n",
       "    <tr>\n",
       "      <th>1f58a286e</th>\n",
       "      <td>1</td>\n",
       "      <td>Blackie</td>\n",
       "      <td>1</td>\n",
       "      <td>307</td>\n",
       "      <td>189</td>\n",
       "      <td>2</td>\n",
       "      <td>1</td>\n",
       "      <td>3</td>\n",
       "      <td>0</td>\n",
       "      <td>2</td>\n",
       "      <td>...</td>\n",
       "      <td>1</td>\n",
       "      <td>1</td>\n",
       "      <td>0</td>\n",
       "      <td>41326</td>\n",
       "      <td>f894b0c7b058834d0a9749b665479732</td>\n",
       "      <td>0</td>\n",
       "      <td>Found it beside road under a big tree alone an...</td>\n",
       "      <td>1f58a286e</td>\n",
       "      <td>1.0</td>\n",
       "      <td>1</td>\n",
       "    </tr>\n",
       "    <tr>\n",
       "      <th>94e45a1a7</th>\n",
       "      <td>1</td>\n",
       "      <td>å¤å¤</td>\n",
       "      <td>2</td>\n",
       "      <td>307</td>\n",
       "      <td>109</td>\n",
       "      <td>2</td>\n",
       "      <td>2</td>\n",
       "      <td>0</td>\n",
       "      <td>0</td>\n",
       "      <td>2</td>\n",
       "      <td>...</td>\n",
       "      <td>1</td>\n",
       "      <td>2</td>\n",
       "      <td>0</td>\n",
       "      <td>41327</td>\n",
       "      <td>97af7642dd8e837dedbefe1f013ca31e</td>\n",
       "      <td>0</td>\n",
       "      <td>cute,fat,active^^ One male and one female</td>\n",
       "      <td>94e45a1a7</td>\n",
       "      <td>0.0</td>\n",
       "      <td>0</td>\n",
       "    </tr>\n",
       "    <tr>\n",
       "      <th>5bbf44cea</th>\n",
       "      <td>1</td>\n",
       "      <td>Pinky</td>\n",
       "      <td>24</td>\n",
       "      <td>307</td>\n",
       "      <td>152</td>\n",
       "      <td>2</td>\n",
       "      <td>1</td>\n",
       "      <td>2</td>\n",
       "      <td>0</td>\n",
       "      <td>2</td>\n",
       "      <td>...</td>\n",
       "      <td>1</td>\n",
       "      <td>1</td>\n",
       "      <td>0</td>\n",
       "      <td>41327</td>\n",
       "      <td>86552e2f34c929a01f7841cbd8865b20</td>\n",
       "      <td>0</td>\n",
       "      <td>Previously always stay together with a male do...</td>\n",
       "      <td>5bbf44cea</td>\n",
       "      <td>2.0</td>\n",
       "      <td>4</td>\n",
       "    </tr>\n",
       "    <tr>\n",
       "      <th>6097a5c1d</th>\n",
       "      <td>1</td>\n",
       "      <td>Lab Mix 3</td>\n",
       "      <td>2</td>\n",
       "      <td>307</td>\n",
       "      <td>141</td>\n",
       "      <td>2</td>\n",
       "      <td>2</td>\n",
       "      <td>0</td>\n",
       "      <td>0</td>\n",
       "      <td>2</td>\n",
       "      <td>...</td>\n",
       "      <td>1</td>\n",
       "      <td>1</td>\n",
       "      <td>0</td>\n",
       "      <td>41326</td>\n",
       "      <td>fa90fa5b1ee11c86938398b60abc32cb</td>\n",
       "      <td>0</td>\n",
       "      <td>Same puppy as previous posting. This posting i...</td>\n",
       "      <td>6097a5c1d</td>\n",
       "      <td>0.0</td>\n",
       "      <td>0</td>\n",
       "    </tr>\n",
       "    <tr>\n",
       "      <th>745facb3c</th>\n",
       "      <td>1</td>\n",
       "      <td>Whisky</td>\n",
       "      <td>24</td>\n",
       "      <td>307</td>\n",
       "      <td>128</td>\n",
       "      <td>2</td>\n",
       "      <td>5</td>\n",
       "      <td>7</td>\n",
       "      <td>0</td>\n",
       "      <td>2</td>\n",
       "      <td>...</td>\n",
       "      <td>1</td>\n",
       "      <td>1</td>\n",
       "      <td>350</td>\n",
       "      <td>41401</td>\n",
       "      <td>f0d495db245f6fd1771a5603511d2134</td>\n",
       "      <td>0</td>\n",
       "      <td>Whisky is a Jack Russell Terrier mix. She is r...</td>\n",
       "      <td>745facb3c</td>\n",
       "      <td>4.0</td>\n",
       "      <td>2</td>\n",
       "    </tr>\n",
       "  </tbody>\n",
       "</table>\n",
       "<p>389 rows × 24 columns</p>\n",
       "</div>"
      ],
      "text/plain": [
       "           Type         Name  Age  Breed1  Breed2  Gender  Color1  Color2  \\\n",
       "PetID                                                                       \n",
       "1bf24d8be     1        Donut   10     307     117       2       1       2   \n",
       "6fecc5cf7     1  Blackie Duo    1     307     141       2       1       0   \n",
       "815f4cc08     1         Cody    3     307     141       1       5       0   \n",
       "8df0bb3b3     1        Molly    2     307      76       1       1       7   \n",
       "6d9b202c9     1        Polly    4     307      36       2       1       2   \n",
       "...         ...          ...  ...     ...     ...     ...     ...     ...   \n",
       "1f58a286e     1      Blackie    1     307     189       2       1       3   \n",
       "94e45a1a7     1       å¤å¤    2     307     109       2       2       0   \n",
       "5bbf44cea     1        Pinky   24     307     152       2       1       2   \n",
       "6097a5c1d     1    Lab Mix 3    2     307     141       2       2       0   \n",
       "745facb3c     1       Whisky   24     307     128       2       5       7   \n",
       "\n",
       "           Color3  MaturitySize  ...  Health  Quantity  Fee  State  \\\n",
       "PetID                            ...                                 \n",
       "1bf24d8be       7             2  ...       1         1    0  41326   \n",
       "6fecc5cf7       0             2  ...       1         2    0  41326   \n",
       "815f4cc08       0             2  ...       1         1    0  41326   \n",
       "8df0bb3b3       0             2  ...       1         1    0  41326   \n",
       "6d9b202c9       7             2  ...       1         1    0  41326   \n",
       "...           ...           ...  ...     ...       ...  ...    ...   \n",
       "1f58a286e       0             2  ...       1         1    0  41326   \n",
       "94e45a1a7       0             2  ...       1         2    0  41327   \n",
       "5bbf44cea       0             2  ...       1         1    0  41327   \n",
       "6097a5c1d       0             2  ...       1         1    0  41326   \n",
       "745facb3c       0             2  ...       1         1  350  41401   \n",
       "\n",
       "                                  RescuerID  VideoAmt  \\\n",
       "PetID                                                   \n",
       "1bf24d8be  aa66486163b6cbc25ea62a34b11c9b91         0   \n",
       "6fecc5cf7  8b6c5cd067ada5f54ca5ffc7f7b5d896         0   \n",
       "815f4cc08  fa90fa5b1ee11c86938398b60abc32cb         0   \n",
       "8df0bb3b3  e03a1162538a0414d6c79823ad6c2744         4   \n",
       "6d9b202c9  fa90fa5b1ee11c86938398b60abc32cb         0   \n",
       "...                                     ...       ...   \n",
       "1f58a286e  f894b0c7b058834d0a9749b665479732         0   \n",
       "94e45a1a7  97af7642dd8e837dedbefe1f013ca31e         0   \n",
       "5bbf44cea  86552e2f34c929a01f7841cbd8865b20         0   \n",
       "6097a5c1d  fa90fa5b1ee11c86938398b60abc32cb         0   \n",
       "745facb3c  f0d495db245f6fd1771a5603511d2134         0   \n",
       "\n",
       "                                                 Description      PetID  \\\n",
       "PetID                                                                     \n",
       "1bf24d8be  Donut is a friendly doggie and very domesticat...  1bf24d8be   \n",
       "6fecc5cf7  2 adorable female black pups rescued from USJ ...  6fecc5cf7   \n",
       "815f4cc08  Lovely puppy with good nature looking for a ho...  815f4cc08   \n",
       "8df0bb3b3  Mochi, momo and Molly are siblings, about 3 mo...  8df0bb3b3   \n",
       "6d9b202c9  She was found wandering around a playground of...  6d9b202c9   \n",
       "...                                                      ...        ...   \n",
       "1f58a286e  Found it beside road under a big tree alone an...  1f58a286e   \n",
       "94e45a1a7          cute,fat,active^^ One male and one female  94e45a1a7   \n",
       "5bbf44cea  Previously always stay together with a male do...  5bbf44cea   \n",
       "6097a5c1d  Same puppy as previous posting. This posting i...  6097a5c1d   \n",
       "745facb3c  Whisky is a Jack Russell Terrier mix. She is r...  745facb3c   \n",
       "\n",
       "          PhotoAmt  AdoptionSpeed  \n",
       "PetID                              \n",
       "1bf24d8be      0.0              4  \n",
       "6fecc5cf7     13.0              3  \n",
       "815f4cc08      3.0              3  \n",
       "8df0bb3b3     18.0              3  \n",
       "6d9b202c9     10.0              3  \n",
       "...            ...            ...  \n",
       "1f58a286e      1.0              1  \n",
       "94e45a1a7      0.0              0  \n",
       "5bbf44cea      2.0              4  \n",
       "6097a5c1d      0.0              0  \n",
       "745facb3c      4.0              2  \n",
       "\n",
       "[389 rows x 24 columns]"
      ]
     },
     "execution_count": 14,
     "metadata": {},
     "output_type": "execute_result"
    }
   ],
   "source": [
    "data[(data.Breed1 == 307) & (data.Breed2 != 0)]"
   ]
  },
  {
   "cell_type": "code",
   "execution_count": 15,
   "metadata": {},
   "outputs": [],
   "source": [
    "#If Breed1 == 307 and Breed2 != 0, swap the values so that Breed1 contains a known breed\n",
    "tempBreed1 = np.where((data['Breed1'] == 307) & (data['Breed2'] != 0), data['Breed2'], data['Breed1'])\n",
    "data.Breed2 = np.where((data['Breed1'] == 307) & (data['Breed2'] != 0), 307, data['Breed2'])\n",
    "data.Breed1 = tempBreed1"
   ]
  },
  {
   "cell_type": "code",
   "execution_count": 16,
   "metadata": {},
   "outputs": [],
   "source": [
    "#Create new predictor: pureBreed\n",
    "data['pureBreed'] = np.where((data.Breed2 == 0), 1, 0)"
   ]
  },
  {
   "cell_type": "code",
   "execution_count": 17,
   "metadata": {},
   "outputs": [
    {
     "data": {
      "text/plain": [
       "2    7277\n",
       "1    5536\n",
       "3    2180\n",
       "Name: Gender, dtype: int64"
      ]
     },
     "execution_count": 17,
     "metadata": {},
     "output_type": "execute_result"
    }
   ],
   "source": [
    "data.Gender.value_counts()"
   ]
  },
  {
   "cell_type": "code",
   "execution_count": 18,
   "metadata": {},
   "outputs": [
    {
     "data": {
      "text/plain": [
       "1    7427\n",
       "2    3750\n",
       "3     947\n",
       "5     884\n",
       "6     684\n",
       "7     667\n",
       "4     634\n",
       "Name: Color1, dtype: int64"
      ]
     },
     "execution_count": 18,
     "metadata": {},
     "output_type": "execute_result"
    }
   ],
   "source": [
    "data.Color1.value_counts()"
   ]
  },
  {
   "cell_type": "code",
   "execution_count": 19,
   "metadata": {},
   "outputs": [
    {
     "data": {
      "text/plain": [
       "0    4471\n",
       "7    3438\n",
       "2    3313\n",
       "5    1128\n",
       "6    1063\n",
       "4     870\n",
       "3     710\n",
       "Name: Color2, dtype: int64"
      ]
     },
     "execution_count": 19,
     "metadata": {},
     "output_type": "execute_result"
    }
   ],
   "source": [
    "data.Color2.value_counts()"
   ]
  },
  {
   "cell_type": "code",
   "execution_count": 20,
   "metadata": {},
   "outputs": [
    {
     "data": {
      "text/plain": [
       "0    10604\n",
       "7     3221\n",
       "5      417\n",
       "6      378\n",
       "4      198\n",
       "3      175\n",
       "Name: Color3, dtype: int64"
      ]
     },
     "execution_count": 20,
     "metadata": {},
     "output_type": "execute_result"
    }
   ],
   "source": [
    "data.Color3.value_counts()"
   ]
  },
  {
   "cell_type": "code",
   "execution_count": 21,
   "metadata": {},
   "outputs": [],
   "source": [
    "#Create new predictor: pureColor (1: 1 color, 2: 2 colors, 3: 3+ colors)\n",
    "\n",
    "data['pureColor'] = np.where((data.Color3 != 0), 3, 2) #Identify pets with 3+ colors, label everything else as '2'\n",
    "data['pureColor'] = np.where((data.Color2 == 0) & (data.pureColor == 2), 1, data.pureColor) #Update 2's to 1 if appropriate\n",
    "\n"
   ]
  },
  {
   "cell_type": "code",
   "execution_count": 22,
   "metadata": {},
   "outputs": [
    {
     "data": {
      "text/plain": [
       "2    10305\n",
       "1     3395\n",
       "3     1260\n",
       "4       33\n",
       "Name: MaturitySize, dtype: int64"
      ]
     },
     "execution_count": 22,
     "metadata": {},
     "output_type": "execute_result"
    }
   ],
   "source": [
    "data.MaturitySize.value_counts()"
   ]
  },
  {
   "cell_type": "code",
   "execution_count": 23,
   "metadata": {},
   "outputs": [
    {
     "data": {
      "image/png": "[encoded data removed]",
      "text/plain": [
       "<Figure size 432x288 with 1 Axes>"
      ]
     },
     "metadata": {
      "needs_background": "light"
     },
     "output_type": "display_data"
    }
   ],
   "source": [
    "plt.hist(data.MaturitySize)\n",
    "plt.xticks([1, 2, 3, 4], ['Small', 'Medium', 'Large', 'Extra Large'])\n",
    "plt.xlabel('Maturity Size')\n",
    "plt.ylabel('Count')\n",
    "plt.show()"
   ]
  },
  {
   "cell_type": "code",
   "execution_count": 24,
   "metadata": {},
   "outputs": [
    {
     "data": {
      "text/plain": [
       "1    8808\n",
       "2    5361\n",
       "3     824\n",
       "Name: FurLength, dtype: int64"
      ]
     },
     "execution_count": 24,
     "metadata": {},
     "output_type": "execute_result"
    }
   ],
   "source": [
    "data.FurLength.value_counts()"
   ]
  },
  {
   "cell_type": "code",
   "execution_count": 25,
   "metadata": {},
   "outputs": [
    {
     "data": {
      "image/png": "[encoded data removed]",
      "text/plain": [
       "<Figure size 432x288 with 1 Axes>"
      ]
     },
     "metadata": {
      "needs_background": "light"
     },
     "output_type": "display_data"
    }
   ],
   "source": [
    "plt.hist(data.FurLength)\n",
    "plt.xticks([1, 2, 3], ['Short', 'Medium', 'Long'])\n",
    "plt.xlabel('Fur Length')\n",
    "plt.ylabel('Count')\n",
    "plt.show()"
   ]
  },
  {
   "cell_type": "code",
   "execution_count": 26,
   "metadata": {},
   "outputs": [
    {
     "data": {
      "text/plain": [
       "2    7227\n",
       "1    5898\n",
       "3    1868\n",
       "Name: Vaccinated, dtype: int64"
      ]
     },
     "execution_count": 26,
     "metadata": {},
     "output_type": "execute_result"
    }
   ],
   "source": [
    "data.Vaccinated.value_counts()"
   ]
  },
  {
   "cell_type": "code",
   "execution_count": 27,
   "metadata": {},
   "outputs": [
    {
     "data": {
      "image/png": "[encoded data removed]",
      "text/plain": [
       "<Figure size 432x288 with 1 Axes>"
      ]
     },
     "metadata": {
      "needs_background": "light"
     },
     "output_type": "display_data"
    }
   ],
   "source": [
    "plt.hist(data.Vaccinated)\n",
    "plt.xticks([1, 2, 3], ['Yes', 'No', 'Unknown'])\n",
    "plt.xlabel('Vaccinated')\n",
    "plt.ylabel('Count')\n",
    "plt.show()"
   ]
  },
  {
   "cell_type": "code",
   "execution_count": 28,
   "metadata": {},
   "outputs": [
    {
     "data": {
      "text/plain": [
       "1    8397\n",
       "2    4815\n",
       "3    1781\n",
       "Name: Dewormed, dtype: int64"
      ]
     },
     "execution_count": 28,
     "metadata": {},
     "output_type": "execute_result"
    }
   ],
   "source": [
    "data.Dewormed.value_counts()"
   ]
  },
  {
   "cell_type": "code",
   "execution_count": 29,
   "metadata": {},
   "outputs": [
    {
     "data": {
      "image/png": "[encoded data removed]",
      "text/plain": [
       "<Figure size 432x288 with 1 Axes>"
      ]
     },
     "metadata": {
      "needs_background": "light"
     },
     "output_type": "display_data"
    }
   ],
   "source": [
    "plt.hist(data.Dewormed)\n",
    "plt.xticks([1, 2, 3], ['Yes', 'No', 'Unknown'])\n",
    "plt.xlabel('Dewormed')\n",
    "plt.ylabel('Count')\n",
    "plt.show()"
   ]
  },
  {
   "cell_type": "code",
   "execution_count": 30,
   "metadata": {},
   "outputs": [
    {
     "data": {
      "text/plain": [
       "2    10077\n",
       "1     3101\n",
       "3     1815\n",
       "Name: Sterilized, dtype: int64"
      ]
     },
     "execution_count": 30,
     "metadata": {},
     "output_type": "execute_result"
    }
   ],
   "source": [
    "data.Sterilized.value_counts()"
   ]
  },
  {
   "cell_type": "code",
   "execution_count": 31,
   "metadata": {},
   "outputs": [
    {
     "data": {
      "image/png": "[encoded data removed]",
      "text/plain": [
       "<Figure size 432x288 with 1 Axes>"
      ]
     },
     "metadata": {
      "needs_background": "light"
     },
     "output_type": "display_data"
    }
   ],
   "source": [
    "plt.hist(data.Sterilized)\n",
    "plt.xticks([1, 2, 3], ['Yes', 'No', 'Unknown'])\n",
    "plt.xlabel('Sterilized')\n",
    "plt.ylabel('Count')\n",
    "plt.show()"
   ]
  },
  {
   "cell_type": "code",
   "execution_count": 32,
   "metadata": {},
   "outputs": [
    {
     "data": {
      "text/plain": [
       "1    14478\n",
       "2      481\n",
       "3       34\n",
       "Name: Health, dtype: int64"
      ]
     },
     "execution_count": 32,
     "metadata": {},
     "output_type": "execute_result"
    }
   ],
   "source": [
    "data.Health.value_counts()"
   ]
  },
  {
   "cell_type": "code",
   "execution_count": 33,
   "metadata": {},
   "outputs": [
    {
     "data": {
      "text/plain": [
       "1     11565\n",
       "2      1422\n",
       "3       726\n",
       "4       531\n",
       "5       333\n",
       "6       185\n",
       "7        84\n",
       "8        52\n",
       "9        33\n",
       "10       19\n",
       "20       12\n",
       "11       10\n",
       "12        6\n",
       "15        4\n",
       "17        3\n",
       "16        3\n",
       "13        2\n",
       "14        2\n",
       "18        1\n",
       "Name: Quantity, dtype: int64"
      ]
     },
     "execution_count": 33,
     "metadata": {},
     "output_type": "execute_result"
    }
   ],
   "source": [
    "data.Quantity.value_counts() #Need to create new predictor variable as there's too many categories"
   ]
  },
  {
   "cell_type": "code",
   "execution_count": 34,
   "metadata": {},
   "outputs": [
    {
     "data": {
      "text/plain": [
       "0      12663\n",
       "50       468\n",
       "100      408\n",
       "200      219\n",
       "150      162\n",
       "       ...  \n",
       "210        1\n",
       "99         1\n",
       "330        1\n",
       "75         1\n",
       "599        1\n",
       "Name: Fee, Length: 74, dtype: int64"
      ]
     },
     "execution_count": 34,
     "metadata": {},
     "output_type": "execute_result"
    }
   ],
   "source": [
    "data.Fee.value_counts() "
   ]
  },
  {
   "cell_type": "code",
   "execution_count": 35,
   "metadata": {},
   "outputs": [
    {
     "data": {
      "text/plain": [
       "41326    8714\n",
       "41401    3845\n",
       "41327     843\n",
       "41336     507\n",
       "41330     420\n",
       "41332     253\n",
       "41324     137\n",
       "41325     110\n",
       "41335      85\n",
       "41361      26\n",
       "41345      22\n",
       "41367      15\n",
       "41342      13\n",
       "41415       3\n",
       "Name: State, dtype: int64"
      ]
     },
     "execution_count": 35,
     "metadata": {},
     "output_type": "execute_result"
    }
   ],
   "source": [
    "data.State.value_counts() "
   ]
  },
  {
   "cell_type": "code",
   "execution_count": 36,
   "metadata": {},
   "outputs": [
    {
     "data": {
      "text/plain": [
       "0    14419\n",
       "1      417\n",
       "2       92\n",
       "3       36\n",
       "4       15\n",
       "5        7\n",
       "6        4\n",
       "8        2\n",
       "7        1\n",
       "Name: VideoAmt, dtype: int64"
      ]
     },
     "execution_count": 36,
     "metadata": {},
     "output_type": "execute_result"
    }
   ],
   "source": [
    "data.VideoAmt.value_counts() "
   ]
  },
  {
   "cell_type": "code",
   "execution_count": 37,
   "metadata": {},
   "outputs": [
    {
     "data": {
      "text/plain": [
       "1.0     3075\n",
       "2.0     2518\n",
       "3.0     2511\n",
       "5.0     2147\n",
       "4.0     1881\n",
       "6.0      621\n",
       "7.0      432\n",
       "0.0      341\n",
       "8.0      314\n",
       "9.0      231\n",
       "10.0     190\n",
       "11.0     184\n",
       "12.0      97\n",
       "13.0      86\n",
       "14.0      78\n",
       "15.0      50\n",
       "16.0      39\n",
       "17.0      27\n",
       "20.0      25\n",
       "19.0      20\n",
       "30.0      19\n",
       "18.0      18\n",
       "21.0      16\n",
       "24.0      15\n",
       "23.0      12\n",
       "26.0      10\n",
       "22.0       9\n",
       "25.0       8\n",
       "28.0       7\n",
       "27.0       6\n",
       "29.0       6\n",
       "Name: PhotoAmt, dtype: int64"
      ]
     },
     "execution_count": 37,
     "metadata": {},
     "output_type": "execute_result"
    }
   ],
   "source": [
    "data.PhotoAmt.value_counts() "
   ]
  },
  {
   "cell_type": "code",
   "execution_count": 38,
   "metadata": {},
   "outputs": [
    {
     "data": {
      "text/html": [
       "<div>\n",
       "<style scoped>\n",
       "    .dataframe tbody tr th:only-of-type {\n",
       "        vertical-align: middle;\n",
       "    }\n",
       "\n",
       "    .dataframe tbody tr th {\n",
       "        vertical-align: top;\n",
       "    }\n",
       "\n",
       "    .dataframe thead th {\n",
       "        text-align: right;\n",
       "    }\n",
       "</style>\n",
       "<table border=\"1\" class=\"dataframe\">\n",
       "  <thead>\n",
       "    <tr style=\"text-align: right;\">\n",
       "      <th></th>\n",
       "      <th>Type</th>\n",
       "      <th>Name</th>\n",
       "      <th>Age</th>\n",
       "      <th>Breed1</th>\n",
       "      <th>Breed2</th>\n",
       "      <th>Gender</th>\n",
       "      <th>Color1</th>\n",
       "      <th>Color2</th>\n",
       "      <th>Color3</th>\n",
       "      <th>MaturitySize</th>\n",
       "      <th>...</th>\n",
       "      <th>State</th>\n",
       "      <th>RescuerID</th>\n",
       "      <th>VideoAmt</th>\n",
       "      <th>Description</th>\n",
       "      <th>PetID</th>\n",
       "      <th>PhotoAmt</th>\n",
       "      <th>AdoptionSpeed</th>\n",
       "      <th>pureBreed</th>\n",
       "      <th>pureColor</th>\n",
       "      <th>descLen</th>\n",
       "    </tr>\n",
       "    <tr>\n",
       "      <th>PetID</th>\n",
       "      <th></th>\n",
       "      <th></th>\n",
       "      <th></th>\n",
       "      <th></th>\n",
       "      <th></th>\n",
       "      <th></th>\n",
       "      <th></th>\n",
       "      <th></th>\n",
       "      <th></th>\n",
       "      <th></th>\n",
       "      <th></th>\n",
       "      <th></th>\n",
       "      <th></th>\n",
       "      <th></th>\n",
       "      <th></th>\n",
       "      <th></th>\n",
       "      <th></th>\n",
       "      <th></th>\n",
       "      <th></th>\n",
       "      <th></th>\n",
       "      <th></th>\n",
       "    </tr>\n",
       "  </thead>\n",
       "  <tbody>\n",
       "    <tr>\n",
       "      <th>86e1089a3</th>\n",
       "      <td>2</td>\n",
       "      <td>Nibble</td>\n",
       "      <td>3</td>\n",
       "      <td>299</td>\n",
       "      <td>0</td>\n",
       "      <td>1</td>\n",
       "      <td>1</td>\n",
       "      <td>7</td>\n",
       "      <td>0</td>\n",
       "      <td>1</td>\n",
       "      <td>...</td>\n",
       "      <td>41326</td>\n",
       "      <td>8480853f516546f6cf33aa88cd76c379</td>\n",
       "      <td>0</td>\n",
       "      <td>Nibble is a 3+ month old ball of cuteness. He ...</td>\n",
       "      <td>86e1089a3</td>\n",
       "      <td>1.0</td>\n",
       "      <td>2</td>\n",
       "      <td>1</td>\n",
       "      <td>2</td>\n",
       "      <td>359.0</td>\n",
       "    </tr>\n",
       "    <tr>\n",
       "      <th>6296e909a</th>\n",
       "      <td>2</td>\n",
       "      <td>No Name Yet</td>\n",
       "      <td>1</td>\n",
       "      <td>265</td>\n",
       "      <td>0</td>\n",
       "      <td>1</td>\n",
       "      <td>1</td>\n",
       "      <td>2</td>\n",
       "      <td>0</td>\n",
       "      <td>2</td>\n",
       "      <td>...</td>\n",
       "      <td>41401</td>\n",
       "      <td>3082c7125d8fb66f7dd4bff4192c8b14</td>\n",
       "      <td>0</td>\n",
       "      <td>I just found it alone yesterday near my apartm...</td>\n",
       "      <td>6296e909a</td>\n",
       "      <td>2.0</td>\n",
       "      <td>0</td>\n",
       "      <td>1</td>\n",
       "      <td>2</td>\n",
       "      <td>118.0</td>\n",
       "    </tr>\n",
       "    <tr>\n",
       "      <th>3422e4906</th>\n",
       "      <td>1</td>\n",
       "      <td>Brisco</td>\n",
       "      <td>1</td>\n",
       "      <td>307</td>\n",
       "      <td>0</td>\n",
       "      <td>1</td>\n",
       "      <td>2</td>\n",
       "      <td>7</td>\n",
       "      <td>0</td>\n",
       "      <td>2</td>\n",
       "      <td>...</td>\n",
       "      <td>41326</td>\n",
       "      <td>fa90fa5b1ee11c86938398b60abc32cb</td>\n",
       "      <td>0</td>\n",
       "      <td>Their pregnant mother was dumped by her irresp...</td>\n",
       "      <td>3422e4906</td>\n",
       "      <td>7.0</td>\n",
       "      <td>3</td>\n",
       "      <td>1</td>\n",
       "      <td>2</td>\n",
       "      <td>393.0</td>\n",
       "    </tr>\n",
       "    <tr>\n",
       "      <th>5842f1ff5</th>\n",
       "      <td>1</td>\n",
       "      <td>Miko</td>\n",
       "      <td>4</td>\n",
       "      <td>307</td>\n",
       "      <td>0</td>\n",
       "      <td>2</td>\n",
       "      <td>1</td>\n",
       "      <td>2</td>\n",
       "      <td>0</td>\n",
       "      <td>2</td>\n",
       "      <td>...</td>\n",
       "      <td>41401</td>\n",
       "      <td>9238e4f44c71a75282e62f7136c6b240</td>\n",
       "      <td>0</td>\n",
       "      <td>Good guard dog, very alert, active, obedience ...</td>\n",
       "      <td>5842f1ff5</td>\n",
       "      <td>8.0</td>\n",
       "      <td>2</td>\n",
       "      <td>1</td>\n",
       "      <td>2</td>\n",
       "      <td>146.0</td>\n",
       "    </tr>\n",
       "    <tr>\n",
       "      <th>850a43f90</th>\n",
       "      <td>1</td>\n",
       "      <td>Hunter</td>\n",
       "      <td>1</td>\n",
       "      <td>307</td>\n",
       "      <td>0</td>\n",
       "      <td>1</td>\n",
       "      <td>1</td>\n",
       "      <td>0</td>\n",
       "      <td>0</td>\n",
       "      <td>2</td>\n",
       "      <td>...</td>\n",
       "      <td>41326</td>\n",
       "      <td>95481e953f8aed9ec3d16fc4509537e8</td>\n",
       "      <td>0</td>\n",
       "      <td>This handsome yet cute boy is up for adoption....</td>\n",
       "      <td>850a43f90</td>\n",
       "      <td>3.0</td>\n",
       "      <td>2</td>\n",
       "      <td>1</td>\n",
       "      <td>1</td>\n",
       "      <td>390.0</td>\n",
       "    </tr>\n",
       "  </tbody>\n",
       "</table>\n",
       "<p>5 rows × 27 columns</p>\n",
       "</div>"
      ],
      "text/plain": [
       "           Type         Name  Age  Breed1  Breed2  Gender  Color1  Color2  \\\n",
       "PetID                                                                       \n",
       "86e1089a3     2       Nibble    3     299       0       1       1       7   \n",
       "6296e909a     2  No Name Yet    1     265       0       1       1       2   \n",
       "3422e4906     1       Brisco    1     307       0       1       2       7   \n",
       "5842f1ff5     1         Miko    4     307       0       2       1       2   \n",
       "850a43f90     1       Hunter    1     307       0       1       1       0   \n",
       "\n",
       "           Color3  MaturitySize  ...  State                         RescuerID  \\\n",
       "PetID                            ...                                            \n",
       "86e1089a3       0             1  ...  41326  8480853f516546f6cf33aa88cd76c379   \n",
       "6296e909a       0             2  ...  41401  3082c7125d8fb66f7dd4bff4192c8b14   \n",
       "3422e4906       0             2  ...  41326  fa90fa5b1ee11c86938398b60abc32cb   \n",
       "5842f1ff5       0             2  ...  41401  9238e4f44c71a75282e62f7136c6b240   \n",
       "850a43f90       0             2  ...  41326  95481e953f8aed9ec3d16fc4509537e8   \n",
       "\n",
       "           VideoAmt                                        Description  \\\n",
       "PetID                                                                    \n",
       "86e1089a3         0  Nibble is a 3+ month old ball of cuteness. He ...   \n",
       "6296e909a         0  I just found it alone yesterday near my apartm...   \n",
       "3422e4906         0  Their pregnant mother was dumped by her irresp...   \n",
       "5842f1ff5         0  Good guard dog, very alert, active, obedience ...   \n",
       "850a43f90         0  This handsome yet cute boy is up for adoption....   \n",
       "\n",
       "               PetID  PhotoAmt  AdoptionSpeed  pureBreed pureColor  descLen  \n",
       "PetID                                                                        \n",
       "86e1089a3  86e1089a3       1.0              2          1         2    359.0  \n",
       "6296e909a  6296e909a       2.0              0          1         2    118.0  \n",
       "3422e4906  3422e4906       7.0              3          1         2    393.0  \n",
       "5842f1ff5  5842f1ff5       8.0              2          1         2    146.0  \n",
       "850a43f90  850a43f90       3.0              2          1         1    390.0  \n",
       "\n",
       "[5 rows x 27 columns]"
      ]
     },
     "execution_count": 38,
     "metadata": {},
     "output_type": "execute_result"
    }
   ],
   "source": [
    "#create new predictor variable for description length\n",
    "data['descLen'] = data['Description'].str.len()\n",
    "data['descLen'].fillna(0, inplace = True)\n",
    "data.head()"
   ]
  },
  {
   "cell_type": "code",
   "execution_count": 39,
   "metadata": {},
   "outputs": [
    {
     "data": {
      "text/plain": [
       "(array([1.3226e+04, 1.4070e+03, 2.5100e+02, 6.5000e+01, 2.3000e+01,\n",
       "        1.0000e+01, 7.0000e+00, 1.0000e+00, 2.0000e+00, 1.0000e+00]),\n",
       " array([   0. ,  666.4, 1332.8, 1999.2, 2665.6, 3332. , 3998.4, 4664.8,\n",
       "        5331.2, 5997.6, 6664. ]),\n",
       " <a list of 10 Patch objects>)"
      ]
     },
     "execution_count": 39,
     "metadata": {},
     "output_type": "execute_result"
    },
    {
     "data": {
      "image/png": "[encoded data removed]",
      "text/plain": [
       "<Figure size 432x288 with 1 Axes>"
      ]
     },
     "metadata": {
      "needs_background": "light"
     },
     "output_type": "display_data"
    }
   ],
   "source": [
    "plt.hist(data.descLen) #Need to create meaningful groups"
   ]
  },
  {
   "cell_type": "code",
   "execution_count": 40,
   "metadata": {},
   "outputs": [
    {
     "data": {
      "text/plain": [
       "4    4197\n",
       "2    4037\n",
       "3    3259\n",
       "1    3090\n",
       "0     410\n",
       "Name: AdoptionSpeed, dtype: int64"
      ]
     },
     "execution_count": 40,
     "metadata": {},
     "output_type": "execute_result"
    }
   ],
   "source": [
    "data.AdoptionSpeed.value_counts() "
   ]
  },
  {
   "cell_type": "code",
   "execution_count": 41,
   "metadata": {},
   "outputs": [
    {
     "data": {
      "image/png": "[encoded data removed]",
      "text/plain": [
       "<Figure size 432x288 with 1 Axes>"
      ]
     },
     "metadata": {
      "needs_background": "light"
     },
     "output_type": "display_data"
    }
   ],
   "source": [
    "plt.hist(data.AdoptionSpeed)\n",
    "plt.xticks([0, 1, 2, 3, 4])\n",
    "plt.xlabel('Adoption Speed')\n",
    "plt.ylabel('Count')\n",
    "plt.show()"
   ]
  },
  {
   "cell_type": "code",
   "execution_count": 42,
   "metadata": {},
   "outputs": [],
   "source": [
    "# covMatrix = np.cov(data.drop(columns = ['Description', 'RescuerID', 'Name', 'PetID']))\n",
    "# sns.heatmap(covMatrix, annot=True, fmt='g')\n",
    "# plt.show()"
   ]
  },
  {
   "cell_type": "code",
   "execution_count": null,
   "metadata": {},
   "outputs": [],
   "source": []
  }
 ],
 "metadata": {
  "kernelspec": {
   "display_name": "Python 3",
   "language": "python",
   "name": "python3"
  },
  "language_info": {
   "codemirror_mode": {
    "name": "ipython",
    "version": 3
   },
   "file_extension": ".py",
   "mimetype": "text/x-python",
   "name": "python",
   "nbconvert_exporter": "python",
   "pygments_lexer": "ipython3",
   "version": "3.8.3"
  }
 },
 "nbformat": 4,
 "nbformat_minor": 4
}
